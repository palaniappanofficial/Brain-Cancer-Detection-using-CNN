{
  "nbformat": 4,
  "nbformat_minor": 0,
  "metadata": {
    "colab": {
      "name": "Copy of CNN-Brain Cancer Detection.ipynb",
      "provenance": []
    },
    "kernelspec": {
      "name": "python3",
      "display_name": "Python 3"
    }
  },
  "cells": [
    {
      "cell_type": "code",
      "metadata": {
        "colab": {
          "base_uri": "https://localhost:8080/"
        },
        "id": "mE6_rRgQgVuw",
        "outputId": "60758639-45ef-4eb5-cac4-ba4d93f7baa0"
      },
      "source": [
        "import numpy as np \n",
        "import pandas as pd \n",
        "import os\n",
        "from os import listdir\n",
        "import tensorflow as tf\n",
        "from keras.preprocessing.image import ImageDataGenerator\n",
        "import cv2\n",
        "import matplotlib.pyplot as plt\n",
        "%matplotlib inline\n",
        "import imutils    \n",
        "\n",
        "from tensorflow.keras.models import Model,load_model\n",
        "from tensorflow.keras.layers import Conv2D,Input,ZeroPadding2D,BatchNormalization,Flatten,Activation,Dense,MaxPooling2D\n",
        "from sklearn.model_selection import train_test_split\n",
        "from sklearn.utils import shuffle\n",
        "from google.colab import drive\n",
        "drive.mount(\"/content/gdrive\")"
      ],
      "execution_count": 1,
      "outputs": [
        {
          "output_type": "stream",
          "text": [
            "Mounted at /content/gdrive\n"
          ],
          "name": "stdout"
        }
      ]
    },
    {
      "cell_type": "code",
      "metadata": {
        "id": "SVKa3-JVgZE-"
      },
      "source": [
        "image_dir=\"/content/gdrive/My Drive/Colab Notebooks/dataset/\""
      ],
      "execution_count": 2,
      "outputs": []
    },
    {
      "cell_type": "code",
      "metadata": {
        "id": "TgNsWOhugkXo"
      },
      "source": [
        "os.makedirs('/content/gdrive/My Drive/Colab Notebooks/dataset/augmented-images')\n",
        "os.makedirs('/content/gdrive/My Drive/Colab Notebooks/dataset/augmented-images/yes')\n",
        "os.makedirs('/content/gdrive/My Drive/Colab Notebooks/dataset/augmented-images/no')"
      ],
      "execution_count": 3,
      "outputs": []
    },
    {
      "cell_type": "code",
      "metadata": {
        "id": "VP5fRrsKgl2A"
      },
      "source": [
        "def augment_data(file_dir, n_generated_samples, save_to_dir):\n",
        "    data_gen = ImageDataGenerator(rotation_range=10, \n",
        "                                  width_shift_range=0.1, \n",
        "                                  height_shift_range=0.1, \n",
        "                                  shear_range=0.1, \n",
        "                                  brightness_range=(0.3, 1.0),\n",
        "                                  horizontal_flip=True, \n",
        "                                  vertical_flip=True, \n",
        "                                  fill_mode='nearest'\n",
        "                                 )\n",
        "    for filename in listdir(file_dir):\n",
        "        image = cv2.imread(file_dir + '/' + filename)\n",
        "        image = image.reshape((1,)+image.shape)\n",
        "        save_prefix = 'aug_' + filename[:-4]\n",
        "        i=0\n",
        "        for batch in data_gen.flow(x=image, batch_size=1, save_to_dir=save_to_dir,save_prefix=save_prefix, save_format='jpg'):\n",
        "                i += 1\n",
        "                if i > n_generated_samples:\n",
        "                    break"
      ],
      "execution_count": 4,
      "outputs": []
    },
    {
      "cell_type": "code",
      "metadata": {
        "id": "2BKUGYfIgp2x"
      },
      "source": [
        "augmented_data_path ='/content/gdrive/My Drive/Colab Notebooks/dataset/augmented-images/'\n",
        "augment_data(file_dir=image_dir+'yes',n_generated_samples=6, save_to_dir=augmented_data_path+'yes')\n",
        "augment_data(file_dir=image_dir+'no', n_generated_samples=9, save_to_dir=augmented_data_path+'no')"
      ],
      "execution_count": 5,
      "outputs": []
    },
    {
      "cell_type": "code",
      "metadata": {
        "id": "WmNW66E4hyvf"
      },
      "source": [
        "def crop_brain_contour(image, plot=False):\n",
        "    gray = cv2.cvtColor(image, cv2.COLOR_BGR2GRAY)\n",
        "    gray = cv2.GaussianBlur(gray, (5, 5), 0)\n",
        "    \n",
        "    thresh = cv2.threshold(gray, 45, 255, cv2.THRESH_BINARY)[1]\n",
        "    thresh = cv2.erode(thresh, None, iterations=2)\n",
        "    thresh = cv2.dilate(thresh, None, iterations=2)\n",
        "    cnts = cv2.findContours(thresh.copy(), cv2.RETR_EXTERNAL, cv2.CHAIN_APPROX_SIMPLE)\n",
        "    cnts = imutils.grab_contours(cnts)\n",
        "    c = max(cnts, key=cv2.contourArea)\n",
        "    extLeft = tuple(c[c[:, :, 0].argmin()][0])\n",
        "    extRight = tuple(c[c[:, :, 0].argmax()][0])\n",
        "    extTop = tuple(c[c[:, :, 1].argmin()][0])\n",
        "    extBot = tuple(c[c[:, :, 1].argmax()][0])\n",
        "    \n",
        "    new_image = image[extTop[1]:extBot[1], extLeft[0]:extRight[0]]            \n",
        "    \n",
        "    return new_image"
      ],
      "execution_count": 6,
      "outputs": []
    },
    {
      "cell_type": "code",
      "metadata": {
        "id": "4Ueym5Joh4_x"
      },
      "source": [
        "def load_data(dir_list, image_size):\n",
        "\n",
        "    X = []\n",
        "    y = []\n",
        "    image_width, image_height = image_size\n",
        "    \n",
        "    for directory in dir_list:\n",
        "        for filename in listdir(directory):\n",
        "            image = cv2.imread(directory+'/'+filename)\n",
        "            image = crop_brain_contour(image, plot=False)\n",
        "            image = cv2.resize(image, dsize=(image_width, image_height), interpolation=cv2.INTER_CUBIC)\n",
        "            image = image / 255.\n",
        "            X.append(image)\n",
        "            if directory[-3:] == 'yes':\n",
        "                y.append([1])\n",
        "            else:\n",
        "                y.append([0])\n",
        "                \n",
        "    X = np.array(X)\n",
        "    y = np.array(y)\n",
        "    \n",
        "    X, y = shuffle(X, y)\n",
        "    \n",
        "    print(f'Number of examples is: {len(X)}')\n",
        "    print(f'X shape is: {X.shape}')\n",
        "    print(f'y shape is: {y.shape}')\n",
        "    \n",
        "    return X, y"
      ],
      "execution_count": 7,
      "outputs": []
    },
    {
      "cell_type": "code",
      "metadata": {
        "colab": {
          "base_uri": "https://localhost:8080/"
        },
        "id": "G5U6AfvMh6Li",
        "outputId": "0a818084-80f5-4198-baa3-ce9788ae70b5"
      },
      "source": [
        "augmented_yes =augmented_data_path+'yes'\n",
        "augmented_no = augmented_data_path+'no'\n",
        "\n",
        "IMG_WIDTH, IMG_HEIGHT = (240, 240)\n",
        "\n",
        "X, y = load_data([augmented_yes, augmented_no], (IMG_WIDTH, IMG_HEIGHT))"
      ],
      "execution_count": 8,
      "outputs": [
        {
          "output_type": "stream",
          "text": [
            "Number of examples is: 2064\n",
            "X shape is: (2064, 240, 240, 3)\n",
            "y shape is: (2064, 1)\n"
          ],
          "name": "stdout"
        }
      ]
    },
    {
      "cell_type": "code",
      "metadata": {
        "id": "vQhhVKXXiZuy"
      },
      "source": [
        "def split_data(X, y, test_size=0.2):\n",
        "       \n",
        "    X_train, X_test_val, y_train, y_test_val = train_test_split(X, y, test_size=test_size)\n",
        "    X_test, X_val, y_test, y_val = train_test_split(X_test_val, y_test_val, test_size=0.5)\n",
        "    \n",
        "    return X_train, y_train, X_val, y_val, X_test, y_test"
      ],
      "execution_count": 9,
      "outputs": []
    },
    {
      "cell_type": "code",
      "metadata": {
        "id": "aqJhbejXidso"
      },
      "source": [
        "X_train, y_train, X_val, y_val, X_test, y_test = split_data(X, y, test_size=0.3)"
      ],
      "execution_count": 10,
      "outputs": []
    },
    {
      "cell_type": "code",
      "metadata": {
        "colab": {
          "base_uri": "https://localhost:8080/"
        },
        "id": "BG48NuRziiJh",
        "outputId": "53b1cc33-c3d7-49d6-8be5-bb33364f47aa"
      },
      "source": [
        "print (\"number of training examples = \" + str(X_train.shape[0]))\n",
        "print (\"number of validation examples = \" + str(X_val.shape[0]))\n",
        "print (\"number of test examples = \" + str(X_test.shape[0]))"
      ],
      "execution_count": 11,
      "outputs": [
        {
          "output_type": "stream",
          "text": [
            "number of training examples = 1444\n",
            "number of validation examples = 310\n",
            "number of test examples = 310\n"
          ],
          "name": "stdout"
        }
      ]
    },
    {
      "cell_type": "code",
      "metadata": {
        "id": "FkAOVMdgiqxZ"
      },
      "source": [
        "def build_model(input_shape):\n",
        "    X_input = Input(input_shape) \n",
        "    X = ZeroPadding2D((2, 2))(X_input) \n",
        "    \n",
        "    X = Conv2D(32, (3,3), strides = (1, 1))(X)\n",
        "    X = BatchNormalization(axis = 3, name = 'bn0')(X)\n",
        "    X = Activation('relu')(X) \n",
        "    \n",
        "    X = MaxPooling2D((3, 3))(X) \n",
        "    X = MaxPooling2D((3, 3))(X) \n",
        "    X = Flatten()(X) \n",
        "    X = Dense(1, activation='sigmoid')(X) \n",
        "    model = Model(inputs = X_input, outputs = X)\n",
        "    \n",
        "    return model"
      ],
      "execution_count": 12,
      "outputs": []
    },
    {
      "cell_type": "code",
      "metadata": {
        "colab": {
          "base_uri": "https://localhost:8080/"
        },
        "id": "nJK1j8b4ir_5",
        "outputId": "0cbac09d-c480-4d83-a008-a28bfa75e5b8"
      },
      "source": [
        "IMG_SHAPE = (IMG_WIDTH, IMG_HEIGHT, 3)\n",
        "model=build_model(IMG_SHAPE)\n",
        "model.summary()"
      ],
      "execution_count": 13,
      "outputs": [
        {
          "output_type": "stream",
          "text": [
            "Model: \"model\"\n",
            "_________________________________________________________________\n",
            "Layer (type)                 Output Shape              Param #   \n",
            "=================================================================\n",
            "input_1 (InputLayer)         [(None, 240, 240, 3)]     0         \n",
            "_________________________________________________________________\n",
            "zero_padding2d (ZeroPadding2 (None, 244, 244, 3)       0         \n",
            "_________________________________________________________________\n",
            "conv2d (Conv2D)              (None, 242, 242, 32)      896       \n",
            "_________________________________________________________________\n",
            "bn0 (BatchNormalization)     (None, 242, 242, 32)      128       \n",
            "_________________________________________________________________\n",
            "activation (Activation)      (None, 242, 242, 32)      0         \n",
            "_________________________________________________________________\n",
            "max_pooling2d (MaxPooling2D) (None, 80, 80, 32)        0         \n",
            "_________________________________________________________________\n",
            "max_pooling2d_1 (MaxPooling2 (None, 26, 26, 32)        0         \n",
            "_________________________________________________________________\n",
            "flatten (Flatten)            (None, 21632)             0         \n",
            "_________________________________________________________________\n",
            "dense (Dense)                (None, 1)                 21633     \n",
            "=================================================================\n",
            "Total params: 22,657\n",
            "Trainable params: 22,593\n",
            "Non-trainable params: 64\n",
            "_________________________________________________________________\n"
          ],
          "name": "stdout"
        }
      ]
    },
    {
      "cell_type": "code",
      "metadata": {
        "colab": {
          "base_uri": "https://localhost:8080/"
        },
        "id": "Dz28x89biwS9",
        "outputId": "514bd844-223c-4012-bcd7-1229e5914ced"
      },
      "source": [
        "model.compile(optimizer='adam', loss='binary_crossentropy', metrics=['accuracy'])\n",
        "model.fit(x=X_train, y=y_train, batch_size=32, epochs=20, validation_data=(X_val, y_val))"
      ],
      "execution_count": 14,
      "outputs": [
        {
          "output_type": "stream",
          "text": [
            "Epoch 1/20\n",
            "46/46 [==============================] - 73s 2s/step - loss: 2.9613 - accuracy: 0.5391 - val_loss: 0.6804 - val_accuracy: 0.5516\n",
            "Epoch 2/20\n",
            "46/46 [==============================] - 77s 2s/step - loss: 0.5033 - accuracy: 0.7658 - val_loss: 0.6877 - val_accuracy: 0.4903\n",
            "Epoch 3/20\n",
            "46/46 [==============================] - 73s 2s/step - loss: 0.3623 - accuracy: 0.8533 - val_loss: 0.6916 - val_accuracy: 0.4839\n",
            "Epoch 4/20\n",
            "46/46 [==============================] - 72s 2s/step - loss: 0.4000 - accuracy: 0.8167 - val_loss: 0.6451 - val_accuracy: 0.5323\n",
            "Epoch 5/20\n",
            "46/46 [==============================] - 72s 2s/step - loss: 0.2545 - accuracy: 0.9032 - val_loss: 0.5991 - val_accuracy: 0.5935\n",
            "Epoch 6/20\n",
            "46/46 [==============================] - 72s 2s/step - loss: 0.2242 - accuracy: 0.9133 - val_loss: 0.8488 - val_accuracy: 0.4839\n",
            "Epoch 7/20\n",
            "46/46 [==============================] - 72s 2s/step - loss: 0.2125 - accuracy: 0.9083 - val_loss: 0.8557 - val_accuracy: 0.5065\n",
            "Epoch 8/20\n",
            "46/46 [==============================] - 72s 2s/step - loss: 0.1866 - accuracy: 0.9295 - val_loss: 1.2440 - val_accuracy: 0.4742\n",
            "Epoch 9/20\n",
            "46/46 [==============================] - 72s 2s/step - loss: 0.3125 - accuracy: 0.8697 - val_loss: 0.4501 - val_accuracy: 0.8065\n",
            "Epoch 10/20\n",
            "46/46 [==============================] - 72s 2s/step - loss: 0.1327 - accuracy: 0.9498 - val_loss: 0.4240 - val_accuracy: 0.7935\n",
            "Epoch 11/20\n",
            "46/46 [==============================] - 90s 2s/step - loss: 0.1046 - accuracy: 0.9770 - val_loss: 0.4775 - val_accuracy: 0.7581\n",
            "Epoch 12/20\n",
            "46/46 [==============================] - 73s 2s/step - loss: 0.0746 - accuracy: 0.9828 - val_loss: 0.4015 - val_accuracy: 0.8161\n",
            "Epoch 13/20\n",
            "46/46 [==============================] - 72s 2s/step - loss: 0.0645 - accuracy: 0.9905 - val_loss: 0.3583 - val_accuracy: 0.8548\n",
            "Epoch 14/20\n",
            "46/46 [==============================] - 72s 2s/step - loss: 0.0882 - accuracy: 0.9743 - val_loss: 0.6497 - val_accuracy: 0.7129\n",
            "Epoch 15/20\n",
            "46/46 [==============================] - 72s 2s/step - loss: 0.0608 - accuracy: 0.9903 - val_loss: 0.2869 - val_accuracy: 0.8742\n",
            "Epoch 16/20\n",
            "46/46 [==============================] - 72s 2s/step - loss: 0.0424 - accuracy: 0.9971 - val_loss: 0.5578 - val_accuracy: 0.8000\n",
            "Epoch 17/20\n",
            "46/46 [==============================] - 72s 2s/step - loss: 0.0568 - accuracy: 0.9933 - val_loss: 0.2971 - val_accuracy: 0.8839\n",
            "Epoch 18/20\n",
            "46/46 [==============================] - 72s 2s/step - loss: 0.0384 - accuracy: 0.9978 - val_loss: 0.2847 - val_accuracy: 0.8871\n",
            "Epoch 19/20\n",
            "46/46 [==============================] - 72s 2s/step - loss: 0.0309 - accuracy: 0.9993 - val_loss: 0.3624 - val_accuracy: 0.8742\n",
            "Epoch 20/20\n",
            "46/46 [==============================] - 72s 2s/step - loss: 0.0293 - accuracy: 1.0000 - val_loss: 0.3742 - val_accuracy: 0.8581\n"
          ],
          "name": "stdout"
        },
        {
          "output_type": "execute_result",
          "data": {
            "text/plain": [
              "<tensorflow.python.keras.callbacks.History at 0x7f6281580e10>"
            ]
          },
          "metadata": {
            "tags": []
          },
          "execution_count": 14
        }
      ]
    },
    {
      "cell_type": "code",
      "metadata": {
        "id": "0drwbkUatrFw"
      },
      "source": [
        "history = model.history.history"
      ],
      "execution_count": 15,
      "outputs": []
    },
    {
      "cell_type": "code",
      "metadata": {
        "id": "3bYg4fIets6a"
      },
      "source": [
        "def plot_metrics(history):\n",
        "    \n",
        "    train_loss = history['loss']\n",
        "    val_loss = history['val_loss']\n",
        "    train_acc = history['accuracy']\n",
        "    val_acc = history['val_accuracy']\n",
        "    \n",
        "    # Loss\n",
        "    plt.figure()\n",
        "    plt.plot(train_loss, label='Training Loss')\n",
        "    plt.plot(val_loss, label='Validation Loss')\n",
        "    plt.title('Loss')\n",
        "    plt.legend()\n",
        "    plt.show()\n",
        "    \n",
        "    # Accuracy\n",
        "    plt.figure()\n",
        "    plt.plot(train_acc, label='Training Accuracy')\n",
        "    plt.plot(val_acc, label='Validation Accuracy')\n",
        "    plt.title('Accuracy')\n",
        "    plt.legend()\n",
        "    plt.show()"
      ],
      "execution_count": 16,
      "outputs": []
    },
    {
      "cell_type": "code",
      "metadata": {
        "colab": {
          "base_uri": "https://localhost:8080/",
          "height": 545
        },
        "id": "OsxJfB9LtxE0",
        "outputId": "29a4a073-bb6e-460a-a436-f9ca16ccfd01"
      },
      "source": [
        "plot_metrics(history)"
      ],
      "execution_count": 17,
      "outputs": [
        {
          "output_type": "display_data",
          "data": {
            "image/png": "[encoded data removed]",
            "text/plain": [
              "<Figure size 432x288 with 1 Axes>"
            ]
          },
          "metadata": {
            "tags": [],
            "needs_background": "light"
          }
        },
        {
          "output_type": "display_data",
          "data": {
            "image/png": "[encoded data removed]",
            "text/plain": [
              "<Figure size 432x288 with 1 Axes>"
            ]
          },
          "metadata": {
            "tags": [],
            "needs_background": "light"
          }
        }
      ]
    },
    {
      "cell_type": "code",
      "metadata": {
        "id": "p3wPHt48t41T",
        "colab": {
          "base_uri": "https://localhost:8080/"
        },
        "outputId": "46600f23-eb57-4cc7-9305-4032791f2f6e"
      },
      "source": [
        "model.save(\"model.model\")"
      ],
      "execution_count": 18,
      "outputs": [
        {
          "output_type": "stream",
          "text": [
            "INFO:tensorflow:Assets written to: model.model/assets\n"
          ],
          "name": "stdout"
        }
      ]
    },
    {
      "cell_type": "code",
      "metadata": {
        "id": "N_9Khy-OMeY7"
      },
      "source": [
        "from keras.models import load_model\n",
        "best_model = load_model(filepath=\"model.model\")"
      ],
      "execution_count": 19,
      "outputs": []
    },
    {
      "cell_type": "code",
      "metadata": {
        "colab": {
          "base_uri": "https://localhost:8080/"
        },
        "id": "XYf3kjzBMiX-",
        "outputId": "3f717657-60ea-4d9b-813f-5f421fb202fd"
      },
      "source": [
        "best_model.metrics_names"
      ],
      "execution_count": 20,
      "outputs": [
        {
          "output_type": "execute_result",
          "data": {
            "text/plain": [
              "['loss', 'accuracy']"
            ]
          },
          "metadata": {
            "tags": []
          },
          "execution_count": 20
        }
      ]
    },
    {
      "cell_type": "code",
      "metadata": {
        "colab": {
          "base_uri": "https://localhost:8080/"
        },
        "id": "fHlk-lGkMjRX",
        "outputId": "9b7a4db7-c8de-4bb8-ddbd-73c7e9ccce0c"
      },
      "source": [
        "loss, acc = best_model.evaluate(x=X_test, y=y_test)"
      ],
      "execution_count": 21,
      "outputs": [
        {
          "output_type": "stream",
          "text": [
            "10/10 [==============================] - 4s 419ms/step - loss: 0.3172 - accuracy: 0.8871\n"
          ],
          "name": "stdout"
        }
      ]
    },
    {
      "cell_type": "code",
      "metadata": {
        "id": "z1873UzVMnbH"
      },
      "source": [
        "def classify(img_file):\n",
        "  x = np.expand_dims(img_file, axis=0)\n",
        "  result=best_model.predict(x)\n",
        "  a=result[0][0]\n",
        "  if a>0.7:\n",
        "    print(\"1 - Tumourous\")\n",
        "  else:\n",
        "    print(\"0 - Non - Tumourous\")"
      ],
      "execution_count": 22,
      "outputs": []
    },
    {
      "cell_type": "code",
      "metadata": {
        "colab": {
          "base_uri": "https://localhost:8080/"
        },
        "id": "HGxCpXazMvkI",
        "outputId": "2c7bb4a3-0c58-4040-b8ff-164f3392c3cf"
      },
      "source": [
        "for i in X_test:\n",
        "  classify(i)"
      ],
      "execution_count": 23,
      "outputs": [
        {
          "output_type": "stream",
          "text": [
            "1 - Tumourous\n",
            "1 - Tumourous\n",
            "0 - Non - Tumourous\n",
            "0 - Non - Tumourous\n",
            "1 - Tumourous\n",
            "1 - Tumourous\n",
            "0 - Non - Tumourous\n",
            "0 - Non - Tumourous\n",
            "0 - Non - Tumourous\n",
            "1 - Tumourous\n",
            "0 - Non - Tumourous\n",
            "0 - Non - Tumourous\n",
            "0 - Non - Tumourous\n",
            "1 - Tumourous\n",
            "1 - Tumourous\n",
            "0 - Non - Tumourous\n",
            "1 - Tumourous\n",
            "1 - Tumourous\n",
            "1 - Tumourous\n",
            "0 - Non - Tumourous\n",
            "0 - Non - Tumourous\n",
            "1 - Tumourous\n",
            "1 - Tumourous\n",
            "1 - Tumourous\n",
            "0 - Non - Tumourous\n",
            "0 - Non - Tumourous\n",
            "1 - Tumourous\n",
            "1 - Tumourous\n",
            "0 - Non - Tumourous\n",
            "0 - Non - Tumourous\n",
            "1 - Tumourous\n",
            "1 - Tumourous\n",
            "0 - Non - Tumourous\n",
            "0 - Non - Tumourous\n",
            "0 - Non - Tumourous\n",
            "0 - Non - Tumourous\n",
            "1 - Tumourous\n",
            "0 - Non - Tumourous\n",
            "1 - Tumourous\n",
            "0 - Non - Tumourous\n",
            "0 - Non - Tumourous\n",
            "1 - Tumourous\n",
            "1 - Tumourous\n",
            "0 - Non - Tumourous\n",
            "0 - Non - Tumourous\n",
            "1 - Tumourous\n",
            "1 - Tumourous\n",
            "1 - Tumourous\n",
            "1 - Tumourous\n",
            "1 - Tumourous\n",
            "0 - Non - Tumourous\n",
            "0 - Non - Tumourous\n",
            "0 - Non - Tumourous\n",
            "1 - Tumourous\n",
            "0 - Non - Tumourous\n",
            "0 - Non - Tumourous\n",
            "1 - Tumourous\n",
            "1 - Tumourous\n",
            "0 - Non - Tumourous\n",
            "0 - Non - Tumourous\n",
            "1 - Tumourous\n",
            "0 - Non - Tumourous\n",
            "1 - Tumourous\n",
            "0 - Non - Tumourous\n",
            "1 - Tumourous\n",
            "1 - Tumourous\n",
            "1 - Tumourous\n",
            "0 - Non - Tumourous\n",
            "1 - Tumourous\n",
            "1 - Tumourous\n",
            "0 - Non - Tumourous\n",
            "1 - Tumourous\n",
            "1 - Tumourous\n",
            "0 - Non - Tumourous\n",
            "1 - Tumourous\n",
            "0 - Non - Tumourous\n",
            "1 - Tumourous\n",
            "0 - Non - Tumourous\n",
            "0 - Non - Tumourous\n",
            "1 - Tumourous\n",
            "0 - Non - Tumourous\n",
            "1 - Tumourous\n",
            "1 - Tumourous\n",
            "0 - Non - Tumourous\n",
            "1 - Tumourous\n",
            "1 - Tumourous\n",
            "0 - Non - Tumourous\n",
            "0 - Non - Tumourous\n",
            "1 - Tumourous\n",
            "0 - Non - Tumourous\n",
            "0 - Non - Tumourous\n",
            "0 - Non - Tumourous\n",
            "1 - Tumourous\n",
            "0 - Non - Tumourous\n",
            "0 - Non - Tumourous\n",
            "0 - Non - Tumourous\n",
            "1 - Tumourous\n",
            "0 - Non - Tumourous\n",
            "1 - Tumourous\n",
            "0 - Non - Tumourous\n",
            "0 - Non - Tumourous\n",
            "1 - Tumourous\n",
            "0 - Non - Tumourous\n",
            "0 - Non - Tumourous\n",
            "1 - Tumourous\n",
            "0 - Non - Tumourous\n",
            "1 - Tumourous\n",
            "0 - Non - Tumourous\n",
            "0 - Non - Tumourous\n",
            "1 - Tumourous\n",
            "0 - Non - Tumourous\n",
            "1 - Tumourous\n",
            "0 - Non - Tumourous\n",
            "0 - Non - Tumourous\n",
            "0 - Non - Tumourous\n",
            "1 - Tumourous\n",
            "1 - Tumourous\n",
            "1 - Tumourous\n",
            "0 - Non - Tumourous\n",
            "0 - Non - Tumourous\n",
            "1 - Tumourous\n",
            "1 - Tumourous\n",
            "0 - Non - Tumourous\n",
            "1 - Tumourous\n",
            "1 - Tumourous\n",
            "1 - Tumourous\n",
            "1 - Tumourous\n",
            "0 - Non - Tumourous\n",
            "1 - Tumourous\n",
            "1 - Tumourous\n",
            "1 - Tumourous\n",
            "0 - Non - Tumourous\n",
            "0 - Non - Tumourous\n",
            "0 - Non - Tumourous\n",
            "1 - Tumourous\n",
            "0 - Non - Tumourous\n",
            "1 - Tumourous\n",
            "1 - Tumourous\n",
            "0 - Non - Tumourous\n",
            "1 - Tumourous\n",
            "1 - Tumourous\n",
            "1 - Tumourous\n",
            "1 - Tumourous\n",
            "0 - Non - Tumourous\n",
            "1 - Tumourous\n",
            "1 - Tumourous\n",
            "0 - Non - Tumourous\n",
            "1 - Tumourous\n",
            "1 - Tumourous\n",
            "0 - Non - Tumourous\n",
            "1 - Tumourous\n",
            "1 - Tumourous\n",
            "0 - Non - Tumourous\n",
            "1 - Tumourous\n",
            "0 - Non - Tumourous\n",
            "0 - Non - Tumourous\n",
            "0 - Non - Tumourous\n",
            "1 - Tumourous\n",
            "1 - Tumourous\n",
            "0 - Non - Tumourous\n",
            "0 - Non - Tumourous\n",
            "0 - Non - Tumourous\n",
            "0 - Non - Tumourous\n",
            "1 - Tumourous\n",
            "0 - Non - Tumourous\n",
            "0 - Non - Tumourous\n",
            "0 - Non - Tumourous\n",
            "0 - Non - Tumourous\n",
            "0 - Non - Tumourous\n",
            "0 - Non - Tumourous\n",
            "1 - Tumourous\n",
            "0 - Non - Tumourous\n",
            "1 - Tumourous\n",
            "0 - Non - Tumourous\n",
            "1 - Tumourous\n",
            "1 - Tumourous\n",
            "1 - Tumourous\n",
            "1 - Tumourous\n",
            "0 - Non - Tumourous\n",
            "1 - Tumourous\n",
            "1 - Tumourous\n",
            "0 - Non - Tumourous\n",
            "1 - Tumourous\n",
            "0 - Non - Tumourous\n",
            "1 - Tumourous\n",
            "1 - Tumourous\n",
            "1 - Tumourous\n",
            "0 - Non - Tumourous\n",
            "0 - Non - Tumourous\n",
            "1 - Tumourous\n",
            "0 - Non - Tumourous\n",
            "0 - Non - Tumourous\n",
            "1 - Tumourous\n",
            "1 - Tumourous\n",
            "0 - Non - Tumourous\n",
            "0 - Non - Tumourous\n",
            "0 - Non - Tumourous\n",
            "0 - Non - Tumourous\n",
            "1 - Tumourous\n",
            "0 - Non - Tumourous\n",
            "1 - Tumourous\n",
            "0 - Non - Tumourous\n",
            "1 - Tumourous\n",
            "0 - Non - Tumourous\n",
            "0 - Non - Tumourous\n",
            "1 - Tumourous\n",
            "1 - Tumourous\n",
            "1 - Tumourous\n",
            "1 - Tumourous\n",
            "1 - Tumourous\n",
            "0 - Non - Tumourous\n",
            "0 - Non - Tumourous\n",
            "0 - Non - Tumourous\n",
            "0 - Non - Tumourous\n",
            "0 - Non - Tumourous\n",
            "1 - Tumourous\n",
            "0 - Non - Tumourous\n",
            "0 - Non - Tumourous\n",
            "1 - Tumourous\n",
            "1 - Tumourous\n",
            "0 - Non - Tumourous\n",
            "1 - Tumourous\n",
            "0 - Non - Tumourous\n",
            "1 - Tumourous\n",
            "1 - Tumourous\n",
            "0 - Non - Tumourous\n",
            "0 - Non - Tumourous\n",
            "0 - Non - Tumourous\n",
            "0 - Non - Tumourous\n",
            "1 - Tumourous\n",
            "0 - Non - Tumourous\n",
            "1 - Tumourous\n",
            "0 - Non - Tumourous\n",
            "1 - Tumourous\n",
            "1 - Tumourous\n",
            "1 - Tumourous\n",
            "1 - Tumourous\n",
            "1 - Tumourous\n",
            "0 - Non - Tumourous\n",
            "0 - Non - Tumourous\n",
            "0 - Non - Tumourous\n",
            "0 - Non - Tumourous\n",
            "0 - Non - Tumourous\n",
            "0 - Non - Tumourous\n",
            "1 - Tumourous\n",
            "1 - Tumourous\n",
            "0 - Non - Tumourous\n",
            "1 - Tumourous\n",
            "0 - Non - Tumourous\n",
            "0 - Non - Tumourous\n",
            "1 - Tumourous\n",
            "1 - Tumourous\n",
            "0 - Non - Tumourous\n",
            "0 - Non - Tumourous\n",
            "1 - Tumourous\n",
            "1 - Tumourous\n",
            "1 - Tumourous\n",
            "0 - Non - Tumourous\n",
            "1 - Tumourous\n",
            "0 - Non - Tumourous\n",
            "0 - Non - Tumourous\n",
            "1 - Tumourous\n",
            "1 - Tumourous\n",
            "0 - Non - Tumourous\n",
            "1 - Tumourous\n",
            "1 - Tumourous\n",
            "0 - Non - Tumourous\n",
            "0 - Non - Tumourous\n",
            "1 - Tumourous\n",
            "1 - Tumourous\n",
            "0 - Non - Tumourous\n",
            "1 - Tumourous\n",
            "0 - Non - Tumourous\n",
            "0 - Non - Tumourous\n",
            "0 - Non - Tumourous\n",
            "1 - Tumourous\n",
            "1 - Tumourous\n",
            "0 - Non - Tumourous\n",
            "1 - Tumourous\n",
            "0 - Non - Tumourous\n",
            "1 - Tumourous\n",
            "0 - Non - Tumourous\n",
            "1 - Tumourous\n",
            "0 - Non - Tumourous\n",
            "1 - Tumourous\n",
            "1 - Tumourous\n",
            "1 - Tumourous\n",
            "0 - Non - Tumourous\n",
            "0 - Non - Tumourous\n",
            "1 - Tumourous\n",
            "1 - Tumourous\n",
            "1 - Tumourous\n",
            "0 - Non - Tumourous\n",
            "1 - Tumourous\n",
            "1 - Tumourous\n",
            "1 - Tumourous\n",
            "0 - Non - Tumourous\n",
            "1 - Tumourous\n",
            "1 - Tumourous\n",
            "1 - Tumourous\n",
            "1 - Tumourous\n",
            "0 - Non - Tumourous\n",
            "0 - Non - Tumourous\n",
            "1 - Tumourous\n",
            "0 - Non - Tumourous\n",
            "1 - Tumourous\n",
            "1 - Tumourous\n",
            "1 - Tumourous\n",
            "1 - Tumourous\n",
            "0 - Non - Tumourous\n"
          ],
          "name": "stdout"
        }
      ]
    }
  ]
}